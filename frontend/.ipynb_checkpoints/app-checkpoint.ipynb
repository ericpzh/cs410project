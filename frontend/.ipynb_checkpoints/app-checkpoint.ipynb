{
 "cells": [
  {
   "cell_type": "code",
   "execution_count": 13,
   "metadata": {},
   "outputs": [
    {
     "name": "stdout",
     "output_type": "stream",
     "text": [
      " * Serving Flask app \"__main__\" (lazy loading)\n",
      " * Environment: production\n",
      "   WARNING: Do not use the development server in a production environment.\n",
      "   Use a production WSGI server instead.\n",
      " * Debug mode: off\n"
     ]
    },
    {
     "name": "stderr",
     "output_type": "stream",
     "text": [
      " * Running on http://127.0.0.1:5000/ (Press CTRL+C to quit)\n",
      "127.0.0.1 - - [14/Apr/2019 17:11:07] \"OPTIONS /testfish%20=%20I%20want%20Jaja HTTP/1.1\" 404 -\n",
      "127.0.0.1 - - [14/Apr/2019 17:11:36] \"OPTIONS /testwhere?fish%20=%20I%20want%20Jaja HTTP/1.1\" 404 -\n",
      "127.0.0.1 - - [14/Apr/2019 17:11:47] \"OPTIONS /test/where?fish%20=%20I%20want%20Jaja HTTP/1.1\" 404 -\n",
      "127.0.0.1 - - [14/Apr/2019 17:12:15] \"OPTIONS /test?fish%20=%20I%20want%20Jaja HTTP/1.1\" 200 -\n",
      "127.0.0.1 - - [14/Apr/2019 17:12:15] \"GET /test?fish%20=%20I%20want%20Jaja HTTP/1.1\" 200 -\n"
     ]
    },
    {
     "name": "stdout",
     "output_type": "stream",
     "text": [
      "ImmutableMultiDict([('fish ', ' I want Jaja')])\n"
     ]
    },
    {
     "name": "stderr",
     "output_type": "stream",
     "text": [
      "127.0.0.1 - - [14/Apr/2019 17:14:44] \"OPTIONS /test?fish%20=%20I%20want%20Jaja HTTP/1.1\" 200 -\n",
      "127.0.0.1 - - [14/Apr/2019 17:14:44] \"GET /test?fish%20=%20I%20want%20Jaja HTTP/1.1\" 200 -\n"
     ]
    },
    {
     "name": "stdout",
     "output_type": "stream",
     "text": [
      "ImmutableMultiDict([('fish ', ' I want Jaja')])\n"
     ]
    },
    {
     "name": "stderr",
     "output_type": "stream",
     "text": [
      "127.0.0.1 - - [14/Apr/2019 17:15:24] \"OPTIONS /test?fish%20=%20I%20want%20Jaja HTTP/1.1\" 200 -\n",
      "127.0.0.1 - - [14/Apr/2019 17:15:24] \"GET /test?fish%20=%20I%20want%20Jaja HTTP/1.1\" 200 -\n"
     ]
    },
    {
     "name": "stdout",
     "output_type": "stream",
     "text": [
      "ImmutableMultiDict([('fish ', ' I want Jaja')])\n"
     ]
    },
    {
     "name": "stderr",
     "output_type": "stream",
     "text": [
      "127.0.0.1 - - [14/Apr/2019 17:22:43] \"OPTIONS /test?fish%20=%20I%20want%20Jaja HTTP/1.1\" 200 -\n",
      "127.0.0.1 - - [14/Apr/2019 17:22:43] \"GET /test?fish%20=%20I%20want%20Jaja HTTP/1.1\" 200 -\n"
     ]
    },
    {
     "name": "stdout",
     "output_type": "stream",
     "text": [
      "ImmutableMultiDict([('fish ', ' I want Jaja')])\n"
     ]
    },
    {
     "name": "stderr",
     "output_type": "stream",
     "text": [
      "127.0.0.1 - - [14/Apr/2019 17:23:00] \"OPTIONS /test?fish%20=%20I%20want%20Jaja HTTP/1.1\" 200 -\n",
      "127.0.0.1 - - [14/Apr/2019 17:23:00] \"GET /test?fish%20=%20I%20want%20Jaja HTTP/1.1\" 200 -\n"
     ]
    },
    {
     "name": "stdout",
     "output_type": "stream",
     "text": [
      "ImmutableMultiDict([('fish ', ' I want Jaja')])\n"
     ]
    },
    {
     "name": "stderr",
     "output_type": "stream",
     "text": [
      "127.0.0.1 - - [14/Apr/2019 17:23:01] \"GET /test?fish%20=%20I%20want%20Jaja HTTP/1.1\" 200 -\n"
     ]
    },
    {
     "name": "stdout",
     "output_type": "stream",
     "text": [
      "ImmutableMultiDict([('fish ', ' I want Jaja')])\n"
     ]
    },
    {
     "name": "stderr",
     "output_type": "stream",
     "text": [
      "127.0.0.1 - - [14/Apr/2019 17:23:02] \"GET /test?fish%20=%20I%20want%20Jaja HTTP/1.1\" 200 -\n"
     ]
    },
    {
     "name": "stdout",
     "output_type": "stream",
     "text": [
      "ImmutableMultiDict([('fish ', ' I want Jaja')])\n"
     ]
    },
    {
     "name": "stderr",
     "output_type": "stream",
     "text": [
      "127.0.0.1 - - [14/Apr/2019 17:23:36] \"OPTIONS /test?fish%20=%20I%20want%20Jaja HTTP/1.1\" 200 -\n",
      "127.0.0.1 - - [14/Apr/2019 17:23:36] \"GET /test?fish%20=%20I%20want%20Jaja HTTP/1.1\" 200 -\n"
     ]
    },
    {
     "name": "stdout",
     "output_type": "stream",
     "text": [
      "ImmutableMultiDict([('fish ', ' I want Jaja')])\n"
     ]
    },
    {
     "name": "stderr",
     "output_type": "stream",
     "text": [
      "127.0.0.1 - - [14/Apr/2019 17:25:58] \"OPTIONS /test?fish%20=%20I%20want%20Jaja HTTP/1.1\" 200 -\n",
      "127.0.0.1 - - [14/Apr/2019 17:25:58] \"GET /test?fish%20=%20I%20want%20Jaja HTTP/1.1\" 200 -\n"
     ]
    },
    {
     "name": "stdout",
     "output_type": "stream",
     "text": [
      "ImmutableMultiDict([('fish ', ' I want Jaja')])\n"
     ]
    }
   ],
   "source": [
    "from flask import render_template\n",
    "from flask import Flask, jsonify, request\n",
    "from flask_cors import CORS\n",
    "\n",
    "class InputForm(FlaskForm):\n",
    "    field = StringField('*separate by \",\" no space: ', validators=[DataRequired()])\n",
    "    submit = SubmitField('Submit')\n",
    "    def validate_field(self, field):\n",
    "        if False: ##todo parse it\n",
    "            raise ValidationError('Must enter more than 1 libraries.')\n",
    "        else:\n",
    "            input_libs = field.split(\",\")\n",
    "\n",
    "app = Flask(__name__)\n",
    "CORS(app)\n",
    "app.config['SECRET_KEY'] = 'any secret string'\n",
    "\n",
    "@app.route('/', methods=['GET', 'POST'])\n",
    "def index():\n",
    "    with open(\"../scraper/data.txt\") as file:\n",
    "        lib_list = [line[1:-2].split(\",\") for line in file.readlines()]\n",
    "\n",
    "    form = InputForm()\n",
    "    if form.validate_on_submit():\n",
    "        list = [\n",
    "            {\n",
    "                'name': 'react-bootstrap',\n",
    "            },\n",
    "            {\n",
    "                'name': 'reactstrap',\n",
    "            }\n",
    "        ]\n",
    "        return render_template('index.html', title='APP', list=list, form=form)\n",
    "    list = [\n",
    "        {\n",
    "            'name': lib_list[0]\n",
    "        }\n",
    "    ]\n",
    "    return render_template('index.html', title='APP', list=list, form=form)\n",
    "\n",
    "@app.route('/test', methods=['GET'])\n",
    "def test():\n",
    "    print(request.args)\n",
    "    return jsonify({'fish':\"jaja\"})\n",
    "\n",
    "if __name__ == '__main__':\n",
    "    app.run()"
   ]
  },
  {
   "cell_type": "code",
   "execution_count": null,
   "metadata": {},
   "outputs": [],
   "source": []
  },
  {
   "cell_type": "code",
   "execution_count": null,
   "metadata": {},
   "outputs": [],
   "source": []
  }
 ],
 "metadata": {
  "kernelspec": {
   "display_name": "Python 3",
   "language": "python",
   "name": "python3"
  },
  "language_info": {
   "codemirror_mode": {
    "name": "ipython",
    "version": 3
   },
   "file_extension": ".py",
   "mimetype": "text/x-python",
   "name": "python",
   "nbconvert_exporter": "python",
   "pygments_lexer": "ipython3",
   "version": "3.7.3"
  }
 },
 "nbformat": 4,
 "nbformat_minor": 2
}
