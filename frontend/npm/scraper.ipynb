{
 "cells": [
  {
   "cell_type": "code",
   "execution_count": 8,
   "metadata": {},
   "outputs": [
    {
     "name": "stdout",
     "output_type": "stream",
     "text": [
      "express\n",
      "framework\n",
      "sinatra\n",
      "web\n",
      "rest\n",
      "restful\n",
      "router\n",
      "app\n",
      "api\n"
     ]
    }
   ],
   "source": [
    "from bs4 import BeautifulSoup\n",
    "from selenium import webdriver \n",
    "from selenium.webdriver.chrome.options import Options\n",
    "import re \n",
    "import urllib\n",
    "from urllib.request import urlopen\n",
    "\n",
    "#create a webdriver object and set options for headless browsing\n",
    "options = Options()\n",
    "options.headless = True\n",
    "browser = webdriver.Chrome('./chromedriver',options=options)\n",
    "\n",
    "#uses webdriver object to execute javascript code and get dynamically loaded webcontent\n",
    "def get_js_soup(url,browser):\n",
    "    browser.get(url)\n",
    "    res_html = browser.execute_script('return document.body.innerHTML')\n",
    "    soup = BeautifulSoup(res_html,'html.parser') #beautiful soup object to be used for parsing html content\n",
    "    return soup\n",
    "\n",
    "def scrape_page(dir_url,browser):\n",
    "    l = []\n",
    "    #execute js on webpage to load listings on webpage and get ready to parse the loaded HTML \n",
    "    soup = get_js_soup(dir_url,browser)\n",
    "    main = soup.find('main')\n",
    "    pv4 =  main.find('div',class_='pv4')\n",
    "    for a in pv4.find_all('a'):\n",
    "        try:\n",
    "            lib = a.contents[0] #get url\n",
    "            l.append(lib)\n",
    "        except:\n",
    "            pass\n",
    "\n",
    "    return l\n",
    "\n",
    "def main(lib):\n",
    "    dir_url = \"https://www.npmjs.com/package/\"+str(lib) #base url\n",
    "    ls = scrape_page(dir_url,browser)\n",
    "    for l in ls:\n",
    "        print(l)\n",
    "\n",
    "if __name__ == '__main__':\n",
    "    main(\"express\")\n"
   ]
  },
  {
   "cell_type": "code",
   "execution_count": null,
   "metadata": {},
   "outputs": [],
   "source": []
  }
 ],
 "metadata": {
  "kernelspec": {
   "display_name": "Python 3",
   "language": "python",
   "name": "python3"
  },
  "language_info": {
   "codemirror_mode": {
    "name": "ipython",
    "version": 3
   },
   "file_extension": ".py",
   "mimetype": "text/x-python",
   "name": "python",
   "nbconvert_exporter": "python",
   "pygments_lexer": "ipython3",
   "version": "3.7.1"
  }
 },
 "nbformat": 4,
 "nbformat_minor": 2
}
