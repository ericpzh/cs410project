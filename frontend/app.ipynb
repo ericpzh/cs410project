{
 "cells": [
  {
   "cell_type": "code",
   "execution_count": null,
   "metadata": {},
   "outputs": [
    {
     "name": "stdout",
     "output_type": "stream",
     "text": [
      " * Serving Flask app \"__main__\" (lazy loading)\n",
      " * Environment: production\n",
      "   WARNING: Do not use the development server in a production environment.\n",
      "   Use a production WSGI server instead.\n",
      " * Debug mode: off\n"
     ]
    },
    {
     "name": "stderr",
     "output_type": "stream",
     "text": [
      " * Running on http://127.0.0.1:5000/ (Press CTRL+C to quit)\n",
      "127.0.0.1 - - [03/May/2019 16:45:52] \"GET / HTTP/1.1\" 200 -\n",
      "127.0.0.1 - - [03/May/2019 17:13:00] \"GET /test HTTP/1.1\" 200 -\n"
     ]
    },
    {
     "name": "stdout",
     "output_type": "stream",
     "text": [
      "ImmutableMultiDict([])\n"
     ]
    }
   ],
   "source": [
    "from flask import render_template\n",
    "from flask import Flask, jsonify, request\n",
    "from flask_cors import CORS\n",
    "\n",
    "\n",
    "app = Flask(__name__)\n",
    "CORS(app)\n",
    "app.config['SECRET_KEY'] = 'any secret string'\n",
    "\n",
    "@app.route('/', methods=['GET', 'POST'])\n",
    "\n",
    "def index():\n",
    "    with open(\"../scraper/data.txt\") as file:\n",
    "        lib_list = [line[1:-2].split(\",\") for line in file.readlines()]\n",
    "    return \"jaja\"\n",
    "    \n",
    "\n",
    "@app.route('/test', methods=['GET'])\n",
    "def test():\n",
    "    print(request.args)\n",
    "    return jsonify({'fish':\"jaja\"})\n",
    "\n",
    "if __name__ == '__main__':\n",
    "    app.run()"
   ]
  },
  {
   "cell_type": "code",
   "execution_count": null,
   "metadata": {},
   "outputs": [],
   "source": []
  },
  {
   "cell_type": "code",
   "execution_count": null,
   "metadata": {},
   "outputs": [],
   "source": []
  }
 ],
 "metadata": {
  "kernelspec": {
   "display_name": "Python 3",
   "language": "python",
   "name": "python3"
  }
 },
 "nbformat": 4,
 "nbformat_minor": 2
}
