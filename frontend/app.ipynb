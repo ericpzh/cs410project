{
 "cells": [
  {
   "cell_type": "code",
   "execution_count": null,
   "metadata": {},
   "outputs": [
    {
     "name": "stdout",
     "output_type": "stream",
     "text": [
      " * Serving Flask app \"__main__\" (lazy loading)\n",
      " * Environment: production\n",
      "   WARNING: Do not use the development server in a production environment.\n",
      "   Use a production WSGI server instead.\n",
      " * Debug mode: off\n"
     ]
    },
    {
     "name": "stderr",
     "output_type": "stream",
     "text": [
      " * Running on http://127.0.0.1:5000/ (Press CTRL+C to quit)\n",
      "127.0.0.1 - - [07/May/2019 20:46:43] \"OPTIONS /test?data=axios,gh-pages,node-sass,prop-types,react,react-dom,react-router-dom,react-scripts,semantic-ui-css,semantic-ui-react HTTP/1.1\" 200 -\n",
      "127.0.0.1 - - [07/May/2019 20:46:43] \"GET /test?data=axios,gh-pages,node-sass,prop-types,react,react-dom,react-router-dom,react-scripts,semantic-ui-css,semantic-ui-react HTTP/1.1\" 200 -\n"
     ]
    },
    {
     "name": "stdout",
     "output_type": "stream",
     "text": [
      "query is:  axios gh-pages node-sass prop-types react react-dom react-router-dom react-scripts semantic-ui-css semantic-ui-react\n",
      "['axios', 'gh-pages', 'node-sass', 'prop-types', 'react', 'react-dom', 'react-router-dom', 'react-scripts', 'semantic-ui-css', 'semantic-ui-react']\n"
     ]
    },
    {
     "name": "stderr",
     "output_type": "stream",
     "text": [
      "127.0.0.1 - - [07/May/2019 20:47:27] \"OPTIONS /test?data= HTTP/1.1\" 200 -\n",
      "127.0.0.1 - - [07/May/2019 20:47:27] \"GET /test?data= HTTP/1.1\" 200 -\n"
     ]
    },
    {
     "name": "stdout",
     "output_type": "stream",
     "text": [
      "query is:  \n",
      "['']\n"
     ]
    },
    {
     "name": "stderr",
     "output_type": "stream",
     "text": [
      "127.0.0.1 - - [07/May/2019 20:47:42] \"OPTIONS /test?data=axios,gh-pages,node-sass,prop-types,react,react-dom,react-router-dom,react-scripts,semantic-ui-css,semantic-ui-react HTTP/1.1\" 200 -\n",
      "127.0.0.1 - - [07/May/2019 20:47:42] \"GET /test?data=axios,gh-pages,node-sass,prop-types,react,react-dom,react-router-dom,react-scripts,semantic-ui-css,semantic-ui-react HTTP/1.1\" 200 -\n"
     ]
    },
    {
     "name": "stdout",
     "output_type": "stream",
     "text": [
      "query is:  axios gh-pages node-sass prop-types react react-dom react-router-dom react-scripts semantic-ui-css semantic-ui-react\n",
      "['axios', 'gh-pages', 'node-sass', 'prop-types', 'react', 'react-dom', 'react-router-dom', 'react-scripts', 'semantic-ui-css', 'semantic-ui-react']\n"
     ]
    },
    {
     "name": "stderr",
     "output_type": "stream",
     "text": [
      "127.0.0.1 - - [07/May/2019 20:47:44] \"GET /test?data=axios,gh-pages,node-sass,prop-types,react,react-dom,react-router-dom,react-scripts,semantic-ui-css,semantic-ui-react HTTP/1.1\" 200 -\n"
     ]
    },
    {
     "name": "stdout",
     "output_type": "stream",
     "text": [
      "query is:  axios gh-pages node-sass prop-types react react-dom react-router-dom react-scripts semantic-ui-css semantic-ui-react\n",
      "['axios', 'gh-pages', 'node-sass', 'prop-types', 'react', 'react-dom', 'react-router-dom', 'react-scripts', 'semantic-ui-css', 'semantic-ui-react']\n"
     ]
    },
    {
     "name": "stderr",
     "output_type": "stream",
     "text": [
      "127.0.0.1 - - [07/May/2019 20:47:49] \"OPTIONS /test?data=axios,gh-pages,node-sass,prop-types,react,react-dom,react-router-dom,react-scripts,semantic-ui-css,semantic-ui-react HTTP/1.1\" 200 -\n",
      "127.0.0.1 - - [07/May/2019 20:47:49] \"GET /test?data=axios,gh-pages,node-sass,prop-types,react,react-dom,react-router-dom,react-scripts,semantic-ui-css,semantic-ui-react HTTP/1.1\" 200 -\n"
     ]
    },
    {
     "name": "stdout",
     "output_type": "stream",
     "text": [
      "query is:  axios gh-pages node-sass prop-types react react-dom react-router-dom react-scripts semantic-ui-css semantic-ui-react\n",
      "['axios', 'gh-pages', 'node-sass', 'prop-types', 'react', 'react-dom', 'react-router-dom', 'react-scripts', 'semantic-ui-css', 'semantic-ui-react']\n"
     ]
    },
    {
     "name": "stderr",
     "output_type": "stream",
     "text": [
      "127.0.0.1 - - [07/May/2019 20:47:49] \"GET /test?data=axios,gh-pages,node-sass,prop-types,react,react-dom,react-router-dom,react-scripts,semantic-ui-css,semantic-ui-react HTTP/1.1\" 200 -\n"
     ]
    },
    {
     "name": "stdout",
     "output_type": "stream",
     "text": [
      "query is:  axios gh-pages node-sass prop-types react react-dom react-router-dom react-scripts semantic-ui-css semantic-ui-react\n",
      "['axios', 'gh-pages', 'node-sass', 'prop-types', 'react', 'react-dom', 'react-router-dom', 'react-scripts', 'semantic-ui-css', 'semantic-ui-react']\n"
     ]
    },
    {
     "name": "stderr",
     "output_type": "stream",
     "text": [
      "127.0.0.1 - - [07/May/2019 20:47:50] \"GET /test?data=axios,gh-pages,node-sass,prop-types,react,react-dom,react-router-dom,react-scripts,semantic-ui-css,semantic-ui-react HTTP/1.1\" 200 -\n"
     ]
    },
    {
     "name": "stdout",
     "output_type": "stream",
     "text": [
      "query is:  axios gh-pages node-sass prop-types react react-dom react-router-dom react-scripts semantic-ui-css semantic-ui-react\n",
      "['axios', 'gh-pages', 'node-sass', 'prop-types', 'react', 'react-dom', 'react-router-dom', 'react-scripts', 'semantic-ui-css', 'semantic-ui-react']\n"
     ]
    },
    {
     "name": "stderr",
     "output_type": "stream",
     "text": [
      "127.0.0.1 - - [07/May/2019 20:48:21] \"OPTIONS /test?data= HTTP/1.1\" 200 -\n",
      "127.0.0.1 - - [07/May/2019 20:48:21] \"GET /test?data= HTTP/1.1\" 200 -\n"
     ]
    },
    {
     "name": "stdout",
     "output_type": "stream",
     "text": [
      "query is:  \n",
      "['']\n"
     ]
    },
    {
     "name": "stderr",
     "output_type": "stream",
     "text": [
      "127.0.0.1 - - [07/May/2019 20:48:22] \"GET /test?data= HTTP/1.1\" 200 -\n"
     ]
    },
    {
     "name": "stdout",
     "output_type": "stream",
     "text": [
      "query is:  \n",
      "['']\n"
     ]
    },
    {
     "name": "stderr",
     "output_type": "stream",
     "text": [
      "127.0.0.1 - - [07/May/2019 20:49:03] \"OPTIONS /test?data= HTTP/1.1\" 200 -\n",
      "127.0.0.1 - - [07/May/2019 20:49:03] \"GET /test?data= HTTP/1.1\" 200 -\n"
     ]
    },
    {
     "name": "stdout",
     "output_type": "stream",
     "text": [
      "query is:  \n",
      "['']\n"
     ]
    },
    {
     "name": "stderr",
     "output_type": "stream",
     "text": [
      "127.0.0.1 - - [07/May/2019 20:49:04] \"GET /test?data= HTTP/1.1\" 200 -\n"
     ]
    },
    {
     "name": "stdout",
     "output_type": "stream",
     "text": [
      "query is:  \n",
      "['']\n"
     ]
    },
    {
     "name": "stderr",
     "output_type": "stream",
     "text": [
      "127.0.0.1 - - [07/May/2019 20:49:08] \"OPTIONS /test?data=axios,gh-pages,node-sass,prop-types,react,react-dom,react-router-dom,react-scripts,semantic-ui-css,semantic-ui-react HTTP/1.1\" 200 -\n",
      "127.0.0.1 - - [07/May/2019 20:49:08] \"GET /test?data=axios,gh-pages,node-sass,prop-types,react,react-dom,react-router-dom,react-scripts,semantic-ui-css,semantic-ui-react HTTP/1.1\" 200 -\n"
     ]
    },
    {
     "name": "stdout",
     "output_type": "stream",
     "text": [
      "query is:  axios gh-pages node-sass prop-types react react-dom react-router-dom react-scripts semantic-ui-css semantic-ui-react\n",
      "['axios', 'gh-pages', 'node-sass', 'prop-types', 'react', 'react-dom', 'react-router-dom', 'react-scripts', 'semantic-ui-css', 'semantic-ui-react']\n"
     ]
    },
    {
     "name": "stderr",
     "output_type": "stream",
     "text": [
      "127.0.0.1 - - [07/May/2019 20:49:15] \"OPTIONS /topic?data= HTTP/1.1\" 200 -\n",
      "127.0.0.1 - - [07/May/2019 20:49:15] \"GET /topic?data= HTTP/1.1\" 200 -\n"
     ]
    },
    {
     "name": "stdout",
     "output_type": "stream",
     "text": [
      "['']\n"
     ]
    },
    {
     "name": "stderr",
     "output_type": "stream",
     "text": [
      "127.0.0.1 - - [07/May/2019 20:49:17] \"OPTIONS /test?data= HTTP/1.1\" 200 -\n",
      "127.0.0.1 - - [07/May/2019 20:49:18] \"GET /test?data= HTTP/1.1\" 200 -\n"
     ]
    },
    {
     "name": "stdout",
     "output_type": "stream",
     "text": [
      "query is:  \n",
      "['']\n"
     ]
    },
    {
     "name": "stderr",
     "output_type": "stream",
     "text": [
      "127.0.0.1 - - [07/May/2019 20:49:29] \"OPTIONS /test?data= HTTP/1.1\" 200 -\n",
      "127.0.0.1 - - [07/May/2019 20:49:29] \"GET /test?data= HTTP/1.1\" 200 -\n"
     ]
    },
    {
     "name": "stdout",
     "output_type": "stream",
     "text": [
      "query is:  \n",
      "['']\n"
     ]
    },
    {
     "name": "stderr",
     "output_type": "stream",
     "text": [
      "127.0.0.1 - - [07/May/2019 20:50:47] \"OPTIONS /test?data= HTTP/1.1\" 200 -\n",
      "127.0.0.1 - - [07/May/2019 20:50:47] \"GET /test?data= HTTP/1.1\" 200 -\n"
     ]
    },
    {
     "name": "stdout",
     "output_type": "stream",
     "text": [
      "query is:  \n",
      "['']\n"
     ]
    },
    {
     "name": "stderr",
     "output_type": "stream",
     "text": [
      "127.0.0.1 - - [07/May/2019 20:50:48] \"GET /test?data= HTTP/1.1\" 200 -\n"
     ]
    },
    {
     "name": "stdout",
     "output_type": "stream",
     "text": [
      "query is:  \n",
      "['']\n"
     ]
    },
    {
     "name": "stderr",
     "output_type": "stream",
     "text": [
      "127.0.0.1 - - [07/May/2019 20:52:09] \"OPTIONS /test?data=axios,gh-pages,node-sass,prop-types,react,react-dom,react-router-dom,react-scripts,semantic-ui-css,semantic-ui-react HTTP/1.1\" 200 -\n",
      "127.0.0.1 - - [07/May/2019 20:52:09] \"GET /test?data=axios,gh-pages,node-sass,prop-types,react,react-dom,react-router-dom,react-scripts,semantic-ui-css,semantic-ui-react HTTP/1.1\" 200 -\n"
     ]
    },
    {
     "name": "stdout",
     "output_type": "stream",
     "text": [
      "query is:  axios gh-pages node-sass prop-types react react-dom react-router-dom react-scripts semantic-ui-css semantic-ui-react\n",
      "['axios', 'gh-pages', 'node-sass', 'prop-types', 'react', 'react-dom', 'react-router-dom', 'react-scripts', 'semantic-ui-css', 'semantic-ui-react']\n"
     ]
    }
   ],
   "source": [
    "from flask import render_template\n",
    "from flask import Flask, jsonify, request\n",
    "from flask_cors import CORS\n",
    "\n",
    "\n",
    "from bs4 import BeautifulSoup\n",
    "from selenium import webdriver \n",
    "from selenium.webdriver.chrome.options import Options\n",
    "import re \n",
    "import urllib\n",
    "from urllib.request import urlopen\n",
    "import json\n",
    "import sys\n",
    "sys.path.append(\"../\")\n",
    "from meta.parser import getWords\n",
    "\n",
    "#create a webdriver object and set options for headless browsing\n",
    "options = Options()\n",
    "options.headless = True\n",
    "browser = webdriver.Chrome('./npm/chromedriver',options=options)\n",
    "\n",
    "#uses webdriver object to execute javascript code and get dynamically loaded webcontent\n",
    "def get_js_soup(url,browser):\n",
    "    browser.get(url)\n",
    "    res_html = browser.execute_script('return document.body.innerHTML')\n",
    "    soup = BeautifulSoup(res_html,'html.parser') #beautiful soup object to be used for parsing html content\n",
    "    return soup\n",
    "\n",
    "def scrape_page(dir_url,browser):\n",
    "    l = []\n",
    "    #execute js on webpage to load listings on webpage and get ready to parse the loaded HTML \n",
    "    soup = get_js_soup(dir_url,browser)\n",
    "    try:\n",
    "        pv4 =  soup.find('div',class_='pv4')\n",
    "        for a in pv4.find_all('a'):\n",
    "            try:\n",
    "                lib = a.contents[0] #get url\n",
    "                l.append(lib)\n",
    "            except:\n",
    "                pass\n",
    "    except:\n",
    "        try:\n",
    "            listp10 = get_js_soup(dir_url,browser).find('ul',class_='list p10')\n",
    "            for a in listp10.find_all('a'):\n",
    "                try:\n",
    "                    lib = a.contents[0] #get url\n",
    "                    l.append(lib)\n",
    "                except:\n",
    "                    pass\n",
    "        except:\n",
    "            pass\n",
    "    return l\n",
    "\n",
    "def fetch(lib):\n",
    "    dir_url = \"https://www.npmjs.com/package/\"+str(lib) #base url\n",
    "    return scrape_page(dir_url,browser)       \n",
    "\n",
    "def test1(inp):\n",
    "    listTopics = []\n",
    "    for i in inp:\n",
    "        results = fetch(i)\n",
    "        for j in results:\n",
    "            if j not in listTopics:\n",
    "                listTopics.append(j)\n",
    "    with open('../topic_lib_dic.json', 'r') as file:\n",
    "        topic_lib_dic = json.loads(file.read())\n",
    "    file.close()\n",
    "    ret = {}\n",
    "    for i in listTopics:\n",
    "        if i in topic_lib_dic.keys():\n",
    "            for j in topic_lib_dic[i]:\n",
    "                if j not in ret.keys():\n",
    "                    ret[j] = 1\n",
    "                else:\n",
    "                    ret[j] += 1\n",
    "    return sorted(ret.items(), key=lambda kv: kv[1])[::-1]\n",
    "\n",
    "app = Flask(__name__)\n",
    "CORS(app)\n",
    "app.config['SECRET_KEY'] = 'any secret string'\n",
    "# app.config[\"DEBUG\"] = True\n",
    "\n",
    "@app.route('/', methods=['GET', 'POST'])\n",
    "\n",
    "def index():\n",
    "    with open(\"../scraper/data.txt\") as file:\n",
    "        lib_list = [line[1:-2].split(\",\") for line in file.readlines()]\n",
    "    return \"jaja\"\n",
    "    \n",
    "\n",
    "@app.route('/test', methods=['GET'])\n",
    "def test():\n",
    "    query = request.args.get('data').replace(\",\",\" \")\n",
    "    print(\"query is: \",query)\n",
    "    print( request.args.get('data').split(\",\"))\n",
    "    # words = getWords(query, 1, 20)\n",
    "    return jsonify( request.args.get('data').split(\",\"))\n",
    "\n",
    "\n",
    "@app.route('/topic', methods=['GET'])\n",
    "def topic():\n",
    "    args = request.args.get('data').split(\",\")\n",
    "    print(args)\n",
    "    return jsonify(args)\n",
    "\n",
    "\n",
    "if __name__ == '__main__':\n",
    "    app.run()"
   ]
  },
  {
   "cell_type": "code",
   "execution_count": null,
   "metadata": {},
   "outputs": [],
   "source": []
  },
  {
   "cell_type": "code",
   "execution_count": null,
   "metadata": {},
   "outputs": [],
   "source": []
  }
 ],
 "metadata": {
  "kernelspec": {
   "display_name": "Python 3",
   "language": "python",
   "name": "python3"
  },
  "language_info": {
   "codemirror_mode": {
    "name": "ipython",
    "version": 3
   },
   "file_extension": ".py",
   "mimetype": "text/x-python",
   "name": "python",
   "nbconvert_exporter": "python",
   "pygments_lexer": "ipython3",
   "version": "3.7.3"
  }
 },
 "nbformat": 4,
 "nbformat_minor": 2
}
