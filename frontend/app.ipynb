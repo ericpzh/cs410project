{
 "cells": [
  {
   "cell_type": "code",
   "execution_count": 45,
   "metadata": {},
   "outputs": [
    {
     "name": "stdout",
     "output_type": "stream",
     "text": [
      " * Serving Flask app \"__main__\" (lazy loading)\n",
      " * Environment: production\n",
      "   WARNING: Do not use the development server in a production environment.\n",
      "   Use a production WSGI server instead.\n",
      " * Debug mode: off\n"
     ]
    },
    {
     "name": "stderr",
     "output_type": "stream",
     "text": [
      " * Running on http://127.0.0.1:5000/ (Press CTRL+C to quit)\n",
      "INFO:werkzeug: * Running on http://127.0.0.1:5000/ (Press CTRL+C to quit)\n",
      "127.0.0.1 - - [11/Mar/2019 18:33:21] \"GET / HTTP/1.1\" 200 -\n",
      "INFO:werkzeug:127.0.0.1 - - [11/Mar/2019 18:33:21] \"GET / HTTP/1.1\" 200 -\n",
      "127.0.0.1 - - [11/Mar/2019 18:33:21] \"GET /index.css HTTP/1.1\" 404 -\n",
      "INFO:werkzeug:127.0.0.1 - - [11/Mar/2019 18:33:21] \"GET /index.css HTTP/1.1\" 404 -\n",
      "127.0.0.1 - - [11/Mar/2019 18:33:21] \"GET /index.js HTTP/1.1\" 404 -\n",
      "INFO:werkzeug:127.0.0.1 - - [11/Mar/2019 18:33:21] \"GET /index.js HTTP/1.1\" 404 -\n"
     ]
    }
   ],
   "source": [
    "from flask import render_template\n",
    "from flask import Flask\n",
    "from flask_wtf import FlaskForm\n",
    "from wtforms import StringField, SubmitField\n",
    "from wtforms.validators import ValidationError, DataRequired\n",
    "\n",
    "class InputForm(FlaskForm):\n",
    "    field = StringField('*separate by \",\" no space: ', validators=[DataRequired()])\n",
    "    submit = SubmitField('Submit')\n",
    "    def validate_field(self, field):\n",
    "        if False: ##todo parse it\n",
    "            raise ValidationError('Must enter more than 1 libraries.')\n",
    "            \n",
    "app = Flask(__name__)\n",
    "app.config['SECRET_KEY'] = 'any secret string'\n",
    "\n",
    "@app.route('/', methods=['GET', 'POST'])\n",
    "def index():\n",
    "    form = InputForm()\n",
    "    if form.validate_on_submit():\n",
    "        list = [\n",
    "            {\n",
    "                'name': 'react-bootstrap',\n",
    "            },\n",
    "            {\n",
    "                'name': 'reactstrap',\n",
    "            }\n",
    "        ]\n",
    "        return render_template('index.html', title='APP', list=list, form=form)\n",
    "    list = [\n",
    "        {\n",
    "            'name': 'react',\n",
    "        },\n",
    "        {\n",
    "            'name': '+1s',\n",
    "        }\n",
    "    ]\n",
    "    return render_template('index.html', title='APP', list=list, form=form)\n",
    "\n",
    "\n",
    "if __name__ == '__main__':\n",
    "    app.run()\n",
    "\n"
   ]
  },
  {
   "cell_type": "code",
   "execution_count": null,
   "metadata": {},
   "outputs": [],
   "source": []
  }
 ],
 "metadata": {
  "kernelspec": {
   "display_name": "Python 3",
   "language": "python",
   "name": "python3"
  },
  "language_info": {
   "codemirror_mode": {
    "name": "ipython",
    "version": 3
   },
   "file_extension": ".py",
   "mimetype": "text/x-python",
   "name": "python",
   "nbconvert_exporter": "python",
   "pygments_lexer": "ipython3",
   "version": "3.7.1"
  }
 },
 "nbformat": 4,
 "nbformat_minor": 2
}
